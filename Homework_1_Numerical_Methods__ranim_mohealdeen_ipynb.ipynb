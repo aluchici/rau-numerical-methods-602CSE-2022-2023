{
  "nbformat": 4,
  "nbformat_minor": 0,
  "metadata": {
    "colab": {
      "provenance": [],
      "include_colab_link": true
    },
    "kernelspec": {
      "name": "python3",
      "display_name": "Python 3"
    },
    "language_info": {
      "name": "python"
    }
  },
  "cells": [
    {
      "cell_type": "markdown",
      "metadata": {
        "id": "view-in-github",
        "colab_type": "text"
      },
      "source": [
        "<a href=\"https://colab.research.google.com/github/Ranimmoh/rau-numerical-methods-602CSE-2022-2023/blob/main/Homework_1_Numerical_Methods__ranim_mohealdeen_ipynb.ipynb\" target=\"_parent\"><img src=\"https://colab.research.google.com/assets/colab-badge.svg\" alt=\"Open In Colab\"/></a>"
      ]
    },
    {
      "cell_type": "code",
      "source": [
        "import numpy as np \n",
        "import matplotlib.pyplot as plt \n",
        "from functools import partial"
      ],
      "metadata": {
        "id": "kCYKy1FCSNsi"
      },
      "execution_count": null,
      "outputs": []
    },
    {
      "cell_type": "code",
      "source": [
        "# Test case\n",
        "def f1(x):\n",
        "  return x*x - 4 * x + 4\n",
        "\n",
        "def f2(x, a, b, c, d):\n",
        "  \"\"\"To test this function, you need to recreate a partial function where you\n",
        "  initialise the parameters a, b, c, d such that the function used with the\n",
        "  bisection method takes only one parameter, x.\n",
        "  \n",
        "  Hint: Have a look at partial functions in Python.\"\"\"\n",
        "  return a*x^3 + b*x^2 + c*x + d"
      ],
      "metadata": {
        "id": "cTc3ejrJTm76"
      },
      "execution_count": null,
      "outputs": []
    },
    {
      "cell_type": "markdown",
      "source": [
        "[20 points] QUESTION 1\n",
        "\n",
        "Complete the implementation for the bisection method for finding the roots of a transcendal equation of the form f(x) = 0. "
      ],
      "metadata": {
        "id": "F6Bmgt0IMXfX"
      }
    },
    {
      "cell_type": "code",
      "execution_count": null,
      "metadata": {
        "id": "3MyzkUWAMS7W",
        "colab": {
          "base_uri": "https://localhost:8080/"
        },
        "outputId": "42dbf37a-08da-42a7-fad0-e6bd54328e96"
      },
      "outputs": [
        {
          "output_type": "execute_result",
          "data": {
            "text/plain": [
              "(-0.9999990463256836, 5.722041350963991e-06, 21)"
            ]
          },
          "metadata": {},
          "execution_count": 33
        }
      ],
      "source": [
        "\n",
        "def bisection(f, x0, x1, eps_f=0.001, eps_x=0.001, n_iter=1000):\n",
        "\n",
        "  \"\"\"\n",
        "  Solves f(x)=0 with bisection method\n",
        "  \n",
        "    Outputs:\n",
        "     xg is the root approximation\n",
        "     fg is the function evaluated at final guess f(xg)\n",
        "     N_eval is the number of function evaluations\n",
        "    Inputs:\n",
        "  \n",
        "  f is the function handle to the desired function,\n",
        "  xn and xp are borders of search, i.e. root brackets,\n",
        "  eps_f defines maximum deviation of f(x_sol) from 0,\n",
        "  eps_x defines maximum deviation from the true solution\n",
        "  \"\"\"\n",
        "  #TOOD: Check that f(x0) < 0. Raise an error otherwise.\n",
        "  # Your code goes here.\n",
        "  if f(x0) > 0 or f(x1) < 0: \n",
        "        raise ValueError(\"Interval bounds are not correct.\")\n",
        "      \n",
        "  # TODO: Check that f(x1) > 0. Raise an error otherwise.\n",
        "  # Your code goes here.\n",
        "\n",
        "  # Initialization\n",
        "  xg = (x1 + x0) / 2 # Initial root guess\n",
        "  fg = f(xg)    # Initial function evaluation\n",
        "  iter_num = 1 # We just evaluated the function\n",
        "  \n",
        "  # Search for root\n",
        "  while (np.abs(xg - x1) > eps_x or np.abs(fg) > eps_f) and (iter_num < n_iter):\n",
        "    if fg > 0:\n",
        "      x1 = xg\n",
        "    else:\n",
        "      x0 = xg\n",
        "\n",
        "    #TODO: Update xg, fg, and increase the iteration number.\n",
        "    # Your code goes here.\n",
        "    xg = (x1 + x0) / 2\n",
        "    fg = f(xg)\n",
        "    iter_num = iter_num + 1\n",
        "  return xg, fg, iter_num \n",
        "\n",
        "def f2(x,a,b,c,d):\n",
        "    return a*x**3+b*x**2+c*x+d\n",
        "def f1(x):\n",
        "  return x*x - 4 * x + 4 \n",
        "\n",
        "xn = -2 \n",
        "xp = 0\n",
        "n_iter = 1000\n",
        "eps_x = 0.00001\n",
        "eps_f = 0.00001\n",
        "\n",
        "# partial function\n",
        "p1=partial(f2,a=2,b=1,c=2,d=3)\n",
        "p1(1)\n",
        "bisection(p1, xn, xp, eps_x, eps_f, n_iter)\n",
        "\n",
        "#So for the first function f1 the line bisects x axis at the x=4.00 through the \n",
        "#interval 0 to 6 so the real solution is The closer the eps f value is to \n",
        "#(for example, 0.00001), the higher the accuracy and the closer we came to the\n",
        "# true value of the bisection.\n",
        "#The function evaluation is smaller and there are more evaluations performed \n",
        "#the closer the value of eps X is to 0.If we set the equation to x**2-4*x+4 the \n",
        "#line would never bisect x axis and the code will rais an error for the interval\n",
        "# bounds\n",
        "#The more evaluations performed, the smaller the function evaluation, \n",
        "#and the larger the n iter, the more accurate the genuine answer is.\n",
        "\n",
        "\n",
        "\n",
        "\n"
      ]
    },
    {
      "cell_type": "code",
      "source": [
        "\n"
      ],
      "metadata": {
        "id": "LakZnaIFOaH8"
      },
      "execution_count": null,
      "outputs": []
    },
    {
      "cell_type": "markdown",
      "source": [
        "[30 points] QUESTION 2\n",
        "\n",
        "Implement the fixed point iteration method for finding the roots of a transcendal equation of the form f(x) = 0\n",
        "\n",
        "Pseudocode:\n",
        "```\n",
        "Given an equation f(x) = 0  \n",
        "Convert f(x) = 0 into the form x = g(x)  [manually]\n",
        "Let the initial guess be x0  \n",
        "Do  \n",
        "  x_n+1= g(x_n) \n",
        "while (none of the convergence criterion C1 or C2 is met)\n",
        "```\n",
        "\n",
        "* C1. Fixing apriori the total number of iterations n_iter. \n",
        "* C2. By testing the condition  | x_n+1 - g(x_n) | (where i is the iteration number) less than some tolerance limit, say epsilon, fixed apriori.\n",
        "\n",
        "References:\n",
        "- https://math.iitm.ac.in/public_html/sryedida/caimna/transcendental/iteration%20methods/fixed-point/iteration.html"
      ],
      "metadata": {
        "id": "-fzgxfGLQUzy"
      }
    },
    {
      "cell_type": "code",
      "source": [
        "# TODO: Implement the fixed point method\n",
        "# Your code goes here\n",
        "#converting f(x)=0 to the form x=g(x)\n",
        "#f(x)=x*X*X+x*X-1\n",
        "#^3+x^2-1=0\n",
        "#x^3-x^2=1\n",
        "#x=sqrt(1/x-1)=g(x)\n",
        "\n",
        "def fixed_point(f,x0,eps,c1):\n",
        " roots=[]\n",
        " c2=f(x0)\n",
        " x0=c2 \n",
        " while np.abs(c2-f(x0)) > eps and c1 >0 :\n",
        "    roots.append(c2)\n",
        "    c2=f(x0)\n",
        "    x0=c2 \n",
        "    c1=c1-1\n",
        " return c2 , roots\n",
        "def f(x):\n",
        "    return  x*x*x+x*x-1\n",
        "fixed_point(f,0.5,0.01,1000)\n",
        "\n"
      ],
      "metadata": {
        "id": "ahBfQSz9QWgM",
        "colab": {
          "base_uri": "https://localhost:8080/"
        },
        "outputId": "19395f2d-f746-4673-86ae-4906633d4b48"
      },
      "execution_count": null,
      "outputs": [
        {
          "output_type": "execute_result",
          "data": {
            "text/plain": [
              "(-0.9287320117474547,\n",
              " [-0.625, -0.853515625, -0.893287755548954, -0.9148475757643355])"
            ]
          },
          "metadata": {},
          "execution_count": 31
        }
      ]
    },
    {
      "cell_type": "code",
      "source": [
        "# Test your methods\n",
        "# Add the code where you test your fixed_point implemention in this cell. \n",
        "# In your report, please show all the results from the bisection method and how\n",
        "# they compare to the real solution of the equation, if it exists. In your tests,\n",
        "# vary the function parameters and show the effects of these \n",
        "# parameters on your solution accuracy."
      ],
      "metadata": {
        "id": "j-2ngNVbTpni"
      },
      "execution_count": null,
      "outputs": []
    },
    {
      "cell_type": "markdown",
      "source": [
        "[50 points] QUESTION 3\n",
        "\n",
        "Implement the Newton Raphson method for finding the roots of a transcendal equation of the form f(x) = 0\n",
        "\n",
        "Pseudocode:\n",
        "\n",
        "```\n",
        "1. Guess a solution x0.\n",
        "2. Repeat until convergence conditions C1 or C2 are met\n",
        "2.1. Compute f(x0).\n",
        "2.2. Compute f'(x0) [first derivate of f]\n",
        "2.3. Update x0 using the equation below:\n",
        "      x_n+1 = x_n - f(x_n) / f'(x_n)\n",
        "```\n",
        "\n",
        "* C1. Total number of iteration exceeds n_iter.\n",
        "* C2. |x_n+1 - x_n| < eps, where eps is a preset tolerance and n is the current iteration (step).\n",
        "\n",
        "References:\n",
        "- https://brilliant.org/wiki/newton-raphson-method/"
      ],
      "metadata": {
        "collapsed": false,
        "id": "cSuCaDK2tq5R"
      }
    },
    {
      "cell_type": "code",
      "source": [
        "# TODO: Implement the newton method\n",
        "# Your code goes here\n",
        "def newton(x0,f,eps,n_iter) :\n",
        " x1=x0\n",
        " while np.abs(x1-x0)<eps and n_iter>0:\n",
        "     fx=f(x1)\n",
        "     fxp=d(f,x0,eps)\n",
        "     x1=x1-(fx/fxp)\n",
        "     x0=x1\n",
        "     n_iter=n_iter -1 \n",
        " return x1\n",
        "def d(f,x0,dx):\n",
        "    return(f(x0+dx)-f(x0))/dx \n",
        "def f(x):\n",
        "    return x*x - 4 * x + 4\n",
        "print(newton(1,f,1e-5,1000))"
      ],
      "metadata": {
        "id": "XK-IQVqxQb6Q",
        "colab": {
          "base_uri": "https://localhost:8080/"
        },
        "outputId": "cec2921f-f708-424e-e71b-0f331e3c6ff3"
      },
      "execution_count": null,
      "outputs": [
        {
          "output_type": "stream",
          "name": "stdout",
          "text": [
            "2.0000000210151514\n"
          ]
        }
      ]
    },
    {
      "cell_type": "code",
      "source": [
        "# Test your methods\n",
        "# Add the code where you test your newton implemention in this cell. \n",
        "# In your report, please show all the results from the bisection method and how\n",
        "# they compare to the real solution of the equation, if it exists. In your tests,\n",
        "# vary the parameters and show the effects of these \n",
        "# parameters on your solution accuracy."
      ],
      "metadata": {
        "id": "SKwVvzLATuO9"
      },
      "execution_count": null,
      "outputs": []
    }
  ]
}