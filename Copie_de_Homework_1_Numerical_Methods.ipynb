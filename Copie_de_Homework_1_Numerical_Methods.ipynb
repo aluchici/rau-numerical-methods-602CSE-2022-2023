{
  "nbformat": 4,
  "nbformat_minor": 0,
  "metadata": {
    "colab": {
      "provenance": [],
      "include_colab_link": true
    },
    "kernelspec": {
      "name": "python3",
      "display_name": "Python 3"
    },
    "language_info": {
      "name": "python"
    }
  },
  "cells": [
    {
      "cell_type": "markdown",
      "metadata": {
        "id": "view-in-github",
        "colab_type": "text"
      },
      "source": [
        "<a href=\"https://colab.research.google.com/github/MitruMichele/rau-numerical-methods-602CSE-2022-2023/blob/main/Copie_de_Homework_1_Numerical_Methods.ipynb\" target=\"_parent\"><img src=\"https://colab.research.google.com/assets/colab-badge.svg\" alt=\"Open In Colab\"/></a>"
      ]
    },
    {
      "cell_type": "code",
      "source": [
        "import numpy as np\n",
        "import matplotlib.pyplot as plt \n",
        "from functools import partial"
      ],
      "metadata": {
        "id": "kCYKy1FCSNsi"
      },
      "execution_count": null,
      "outputs": []
    },
    {
      "cell_type": "code",
      "source": [
        "# Test case\n",
        "def f1(x):\n",
        "  return x*x - 4 * x + 4\n",
        "\n",
        "def f2(x, a, b, c, d):\n",
        "  \"\"\"To test this function, you need to recreate a partial function where you\n",
        "  initialise the parameters a, b, c, d such that the function used with the\n",
        "  bisection method takes only one parameter, x.\n",
        "  \n",
        "  Hint: Have a look at partial functions in Python.\"\"\"\n",
        "  return a*x^3 + b*x^2 + c*x + d"
      ],
      "metadata": {
        "id": "cTc3ejrJTm76"
      },
      "execution_count": null,
      "outputs": []
    },
    {
      "cell_type": "markdown",
      "source": [
        "[20 points] QUESTION 1\n",
        "\n",
        "Complete the implementation for the bisection method for finding the roots of a transcendal equation of the form f(x) = 0. "
      ],
      "metadata": {
        "id": "F6Bmgt0IMXfX"
      }
    },
    {
      "cell_type": "code",
      "execution_count": 1,
      "metadata": {
        "id": "3MyzkUWAMS7W",
        "colab": {
          "base_uri": "https://localhost:8080/",
          "height": 232
        },
        "outputId": "570d13d3-101d-43f3-aa0b-1280e72160f8"
      },
      "outputs": [
        {
          "output_type": "error",
          "ename": "NameError",
          "evalue": "ignored",
          "traceback": [
            "\u001b[0;31m---------------------------------------------------------------------------\u001b[0m",
            "\u001b[0;31mNameError\u001b[0m                                 Traceback (most recent call last)",
            "\u001b[0;32m<ipython-input-1-3ecdb776503e>\u001b[0m in \u001b[0;36m<module>\u001b[0;34m\u001b[0m\n\u001b[1;32m     65\u001b[0m \u001b[0meps_f\u001b[0m \u001b[0;34m=\u001b[0m \u001b[0;36m0.00000000001\u001b[0m\u001b[0;34m\u001b[0m\u001b[0;34m\u001b[0m\u001b[0m\n\u001b[1;32m     66\u001b[0m \u001b[0;34m\u001b[0m\u001b[0m\n\u001b[0;32m---> 67\u001b[0;31m \u001b[0mx\u001b[0m \u001b[0;34m=\u001b[0m \u001b[0mnp\u001b[0m\u001b[0;34m.\u001b[0m\u001b[0mlinspace\u001b[0m\u001b[0;34m(\u001b[0m\u001b[0;34m-\u001b[0m\u001b[0;36m100\u001b[0m\u001b[0;34m,\u001b[0m \u001b[0;36m100\u001b[0m\u001b[0;34m,\u001b[0m \u001b[0;36m1000\u001b[0m\u001b[0;34m)\u001b[0m\u001b[0;34m\u001b[0m\u001b[0;34m\u001b[0m\u001b[0m\n\u001b[0m\u001b[1;32m     68\u001b[0m \u001b[0;34m\u001b[0m\u001b[0m\n\u001b[1;32m     69\u001b[0m \u001b[0;31m# Function 1\u001b[0m\u001b[0;34m\u001b[0m\u001b[0;34m\u001b[0m\u001b[0;34m\u001b[0m\u001b[0m\n",
            "\u001b[0;31mNameError\u001b[0m: name 'np' is not defined"
          ]
        }
      ],
      "source": [
        "def bisection(f, x0, x1, eps_f=0.001, eps_x=0.001, n_iter=1000):\n",
        "  \"\"\"\n",
        "  Solves f(x)=0 with bisection method\n",
        "  \n",
        "    Outputs:\n",
        "     xg is the root approximation\n",
        "     fg is the function evaluated at final guess f(xg)\n",
        "     N_eval is the number of function evaluations\n",
        "    Inputs:\n",
        "  \n",
        "  f is the function handle to the desired function,\n",
        "  xn and xp are borders of search, i.e. root brackets,\n",
        "  eps_f defines maximum deviation of f(x_sol) from 0,\n",
        "  eps_x defines maximum deviation from the true solution\n",
        "  \"\"\"\n",
        "  #TOOD: Check that f(x0) < 0. Raise an error otherwise.\n",
        "  # Your code goes here.\n",
        "\n",
        "  \n",
        "  xg = (x1 + x0) / 2\n",
        "  fg = f(xg)   \n",
        "  iter_num = 1\n",
        "  \n",
        "  while (np.abs(xg - x1) > eps_x or np.abs(fg) > eps_f) and (iter_num < n_iter):\n",
        "    if fg > 0:\n",
        "      x1 = xg\n",
        "    else:\n",
        "      x0 = xg\n",
        "\n",
        "    #TODO: Update xg, fg, and increase the iteration number.\n",
        "    # Your code goes here.\n",
        "\n",
        "  if f(x0) > 0:\n",
        "   raise ValueError('not correct.')\n",
        "\n",
        "\n",
        "  # TODO: Check that f(x1) > 0. Raise an error otherwise.\n",
        "  # Your code goes here.\n",
        "  if f(x1) < 0:\n",
        "    raise ValueError('not correct.')\n",
        "\n",
        "\n",
        "  xg = (x1 + x0) / 2\n",
        "  fg = f(xg)    \n",
        "  iter_num = 1\n",
        "  \n",
        "  # Search for root\n",
        "  while (np.abs(xg - x1) > eps_x or np.abs(fg) > eps_f) and (iter_num < n_iter):\n",
        "    if fg > 0:\n",
        "      x1 = xg\n",
        "    else:\n",
        "      x0 = xg\n",
        "\n",
        "    #TODO: Update xg, fg, and increase the iteration number.\n",
        "    # Your code goes here.\n",
        "    xg = (x1+x0) / 2\n",
        "    fg = f(xg)\n",
        "    iter_num += 1\n",
        "    \n",
        "    return xg, fg, iter_num\n",
        "     \n",
        "\n",
        "n_iter = 10000\n",
        "eps_x = 0.00000000001\n",
        "eps_f = 0.00000000001\n",
        "\n",
        "x = np.linspace(-100, 100, 1000)\n",
        "\n",
        "# Function 1\n",
        "\n",
        "\n",
        "xn = 2\n",
        "xp = 5\n",
        "\n",
        "xg,fg,iter_num = bisection(f1, xn, xp, eps_x, eps_f, n_iter)\n",
        "\n",
        "\n",
        "x1, y1 = [-100, 100], [fg, fg]\n",
        "\n",
        "plt.plot(x, f1(x))\n",
        "plt.plot(x1, y1, marker = 'o')\n",
        "plt.grid()\n",
        "plt.show()\n",
        "\n",
        "print(xg, fg, iter_num)\n",
        "\n",
        "# Function 2\n",
        "\n",
        "p = partial(f2, a=2, b=4, c=5, d=1) # 2x^3 + 4x^2 + 5x + 1\n",
        "\n",
        "xn = -2\n",
        "xp = 1\n",
        "\n",
        "xg, fg, iter_num = bisection(p, xn, xp, eps_x, eps_f, n_iter)\n",
        "\n",
        "x1, y1 = [-100, 100], [fg, fg]\n",
        "\n",
        "plt.plot(x, p(x))\n",
        "plt.plot(x1, y1, marker='o')\n",
        "plt.grid()\n",
        "plt.show()\n",
        "\n",
        "\n",
        "print(xg, fg, iter_num)\n",
        "\n",
        "\n",
        "   "
      ]
    },
    {
      "cell_type": "code",
      "source": [
        "# Test your methods\n",
        "# Add the code where you test your bisection implemention in this cell. \n",
        "# In your report, please show all the results from the bisection method and how\n",
        "# they compare to the real solution of the equation, if it exists. In your tests,\n",
        "# vary the eps_x, eps_f, n_iter parameters and show the effects of these \n",
        "# parameters on your solution accuracy."
      ],
      "metadata": {
        "id": "LakZnaIFOaH8"
      },
      "execution_count": null,
      "outputs": []
    },
    {
      "cell_type": "markdown",
      "source": [
        "[30 points] QUESTION 2\n",
        "\n",
        "Implement the fixed point iteration method for finding the roots of a transcendal equation of the form f(x) = 0\n",
        "\n",
        "Pseudocode:\n",
        "```\n",
        "Given an equation f(x) = 0  \n",
        "Convert f(x) = 0 into the form x = g(x)  [manually]\n",
        "Let the initial guess be x0  \n",
        "Do  \n",
        "  x_n+1= g(x_n) \n",
        "while (none of the convergence criterion C1 or C2 is met)\n",
        "```\n",
        "\n",
        "* C1. Fixing apriori the total number of iterations n_iter. \n",
        "* C2. By testing the condition  | x_n+1 - g(x_n) | (where i is the iteration number) less than some tolerance limit, say epsilon, fixed apriori.\n",
        "\n",
        "References:\n",
        "- https://math.iitm.ac.in/public_html/sryedida/caimna/transcendental/iteration%20methods/fixed-point/iteration.html"
      ],
      "metadata": {
        "id": "-fzgxfGLQUzy"
      }
    },
    {
      "cell_type": "code",
      "source": [
        "# TODO: Implement the fixed point method\n",
        "# Your code goes here\n",
        "\n",
        "import numpy as np\n",
        "import matplotlib.pyplot as plt\n",
        "def fixed_point(f,x,eps,C1):\n",
        "  roots = []\n",
        "  C2 = f(x)\n",
        "  x = C2\n",
        "  while np.abs(C2 - f(x)) > eps and C1 > 0:\n",
        "   roots.append(C2)\n",
        "   C2 = f(x)\n",
        "   x = C2\n",
        "   C1 = C1 - 1 \n",
        "  return C2, roots\n",
        "\n",
        "\n",
        "def f(x):\n",
        "  return (x*x*x+1) / 3\n",
        "fixed_point(f,0.5,0.00001,1000)\n"
      ],
      "metadata": {
        "id": "ahBfQSz9QWgM",
        "colab": {
          "base_uri": "https://localhost:8080/"
        },
        "outputId": "35c7311b-dc31-4ca3-faec-cd16337a7fbe"
      },
      "execution_count": null,
      "outputs": [
        {
          "output_type": "execute_result",
          "data": {
            "text/plain": [
              "(0.3473027741103672,\n",
              " [0.375, 0.3509114583333333, 0.3477369446629359, 0.3473495643546683])"
            ]
          },
          "metadata": {},
          "execution_count": 11
        }
      ]
    },
    {
      "cell_type": "code",
      "source": [
        "# Test your methods\n",
        "# Add the code where you test your fixed_point implemention in this cell. \n",
        "# In your report, please show all the results from the bisection method and how\n",
        "# they compare to the real solution of the equation, if it exists. In your tests,\n",
        "# vary the function parameters and show the effects of these \n",
        "# parameters on your solution accuracy."
      ],
      "metadata": {
        "id": "j-2ngNVbTpni"
      },
      "execution_count": null,
      "outputs": []
    },
    {
      "cell_type": "markdown",
      "source": [
        "[50 points] QUESTION 3\n",
        "\n",
        "Implement the Newton Raphson method for finding the roots of a transcendal equation of the form f(x) = 0\n",
        "\n",
        "Pseudocode:\n",
        "\n",
        "```\n",
        "1. Guess a solution x0.\n",
        "2. Repeat until convergence conditions C1 or C2 are met\n",
        "2.1. Compute f(x0).\n",
        "2.2. Compute f'(x0) [first derivate of f]\n",
        "2.3. Update x0 using the equation below:\n",
        "      x_n+1 = x_n - f(x_n) / f'(x_n)\n",
        "```\n",
        "\n",
        "* C1. Total number of iteration exceeds n_iter.\n",
        "* C2. |x_n+1 - x_n| < eps, where eps is a preset tolerance and n is the current iteration (step).\n",
        "\n",
        "References:\n",
        "- https://brilliant.org/wiki/newton-raphson-method/"
      ],
      "metadata": {
        "collapsed": false,
        "id": "KOkaxFq3jZo0"
      }
    },
    {
      "cell_type": "code",
      "source": [
        "# TODO: Implement the newton method\n",
        "# Your code goes here\n",
        "\n",
        "def newton_Raphson(f, derf, x0, eps, C1 = 1000):\n",
        "  if abs(f(x0)) < eps or C1 == 0:\n",
        "      return x0\n",
        "  else:\n",
        "      return newton_Raphson(f, derf, x0 - f(x0)/derf(x0), eps, n_iter - 1)\n",
        "\n",
        "C1 = 10000\n",
        "eps = 0.00001\n",
        "\n",
        "x = np.linspace(-100, 100, 1000)\n",
        "\n",
        "def f(x):\n",
        "    res = np.cos(x)-2*x**3\n",
        "    return res\n",
        "\n",
        "\n",
        "def derfx(x):\n",
        "    res = -np.sin(x)-6*x**2\n",
        "    return res\n",
        "\n",
        "xn = 1\n",
        "\n",
        "xg = newton_Raphson(f, derfx, xn, eps, C1)\n",
        "\n",
        "x1, y1 = [-100, 100], [f(xg), f(xg)]\n",
        "\n",
        "plt.plot(x, f(x))\n",
        "plt.plot(x1, y1, marker='o')\n",
        "plt.grid()\n",
        "plt.show()\n",
        "\n",
        "print(f(xg), xg)\n",
        "\n",
        "\n"
      ],
      "metadata": {
        "id": "XK-IQVqxQb6Q",
        "colab": {
          "base_uri": "https://localhost:8080/",
          "height": 293
        },
        "outputId": "e0edd92d-7967-4fdf-cffb-d4d1e0802800"
      },
      "execution_count": null,
      "outputs": [
        {
          "output_type": "display_data",
          "data": {
            "text/plain": [
              "<Figure size 432x288 with 1 Axes>"
            ],
            "image/png": "[encoded data removed]"
          },
          "metadata": {
            "needs_background": "light"
          }
        },
        {
          "output_type": "stream",
          "name": "stdout",
          "text": [
            "-3.6893424981698786e-09 0.7214060336500903\n"
          ]
        }
      ]
    },
    {
      "cell_type": "code",
      "source": [
        "# Test your methods\n",
        "# Add the code where you test your newton implemention in this cell. \n",
        "# In your report, please show all the results from the bisection method and how\n",
        "# they compare to the real solution of the equation, if it exists. In your tests,\n",
        "# vary the parameters and show the effects of these \n",
        "# parameters on your solution accuracy."
      ],
      "metadata": {
        "id": "SKwVvzLATuO9"
      },
      "execution_count": null,
      "outputs": []
    }
  ]
}