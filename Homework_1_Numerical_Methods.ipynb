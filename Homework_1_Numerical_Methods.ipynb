{
  "cells": [
    {
      "cell_type": "markdown",
      "metadata": {
        "id": "view-in-github",
        "colab_type": "text"
      },
      "source": [
        "<a href=\"https://colab.research.google.com/github/vFrostbane/rau-numerical-methods-602CSE-2022-2023/blob/Vladimir-Ionescu-Numercal-Methods/Homework_1_Numerical_Methods.ipynb\" target=\"_parent\"><img src=\"https://colab.research.google.com/assets/colab-badge.svg\" alt=\"Open In Colab\"/></a>"
      ]
    },
    {
      "cell_type": "code",
      "execution_count": null,
      "metadata": {
        "id": "kCYKy1FCSNsi"
      },
      "outputs": [],
      "source": [
        "import numpy as np\n",
        "import matplotlib.pyplot as plt \n",
        "import math"
      ]
    },
    {
      "cell_type": "code",
      "execution_count": null,
      "metadata": {
        "id": "cTc3ejrJTm76"
      },
      "outputs": [],
      "source": [
        "# Test case\n",
        "def f1(x):\n",
        "  return x*x - 4 * x + 4\n",
        "\n",
        "def f2(x, a, b, c, d):\n",
        "  \"\"\"To test this function, you need to recreate a partial function where you\n",
        "  initialise the parameters a, b, c, d such that the function used with the\n",
        "  bisection method takes only one parameter, x.\n",
        "  \n",
        "  Hint: Have a look at partial functions in Python.\"\"\"\n",
        "  return a*x^3 + b*x^2 + c*x + d"
      ]
    },
    {
      "cell_type": "markdown",
      "metadata": {
        "id": "F6Bmgt0IMXfX"
      },
      "source": [
        "[20 points] QUESTION 1\n",
        "\n",
        "Complete the implementation for the bisection method for finding the roots of a transcendal equation of the form f(x) = 0. "
      ]
    },
    {
      "cell_type": "code",
      "execution_count": null,
      "metadata": {
        "id": "3MyzkUWAMS7W"
      },
      "outputs": [],
      "source": [
        "def bisection(f, x0, x1, eps_f=0.001, eps_x=0.00001, n_iter=100000):\n",
        "  \"\"\"\n",
        "  Solves f(x)=0 with bisection method\n",
        "  \n",
        "    Outputs:\n",
        "     xg is the root approximation\n",
        "     fg is the function evaluated at final guess f(xg)\n",
        "     N_eval is the number of function evaluations\n",
        "    Inputs:\n",
        "  \n",
        "  f is the function handle to the desired function,\n",
        "  xn and xp are borders of search, i.e. root brackets,\n",
        "  eps_f defines maximum deviation of f(x_sol) from 0,\n",
        "  eps_x defines maximum deviation from the true solution\n",
        "  \"\"\"\n",
        "  #TOOD: Check that f(x0) < 0. Raise an error otherwise.\n",
        "  if f(x0)>0:\n",
        "    raise Exception(\"f(x0) may not be less than or equal to Zero\")\n",
        "\n",
        "  # TODO: Check that f(x1) > 0. Raise an error otherwise.\n",
        "  if f(x1)<0:\n",
        "    raise Exception(\"f(x1) may not be greater than or equal to Zero\")\n",
        "\n",
        "  # Initialization\n",
        "  xg = (x1 + x0) / 2 # Initial root guess\n",
        "  fg = f(xg)    # Initial function evaluation\n",
        "  iter_num = 1 # We just evaluated the function\n",
        "  \n",
        "  # Search for root\n",
        "  while (np.abs(xg - x1) > eps_x or np.abs(fg) > eps_f) and (iter_num < n_iter):\n",
        "    if fg > 0:\n",
        "      x1 = xg\n",
        "    else:\n",
        "      x0 = xg\n",
        "\n",
        "    #TODO: Update xg, fg, and increase the iteration number.\n",
        "    xg = (x1 + x0) / 2  \n",
        "    fg = f(xg)\n",
        "    iter_num = iter_num + 1\n",
        "\n",
        "  return x1;"
      ]
    },
    {
      "cell_type": "code",
      "execution_count": null,
      "metadata": {
        "id": "LakZnaIFOaH8",
        "colab": {
          "base_uri": "https://localhost:8080/"
        },
        "outputId": "976d0844-8321-4bc2-cb3b-c9f48e58ec6b"
      },
      "outputs": [
        {
          "output_type": "stream",
          "name": "stdout",
          "text": [
            "2.0001220703125 2.0000152587890625 2.0000152587890625\n"
          ]
        }
      ],
      "source": [
        "# Test your methods\n",
        "# Add the code where you test your bisection implemention in this cell. \n",
        "# In your report, please show all the results from the bisection method and how\n",
        "# they compare to the real solution of the equation, if it exists. In your tests,\n",
        "# vary the eps_x, eps_f, n_iter parameters and show the effects of these \n",
        "# parameters on your solution accuracy.\n",
        "\n",
        "r1= bisection(f=f1, x0=2, x1=6)\n",
        "r2= bisection(f=f1, x0=2, x1=6, eps_f=0.00001)\n",
        "r3= bisection(f=f1, x0=2, x1=6, eps_f=0.001, eps_x=0.0001)\n",
        "\n",
        "print (r3, r2, r1)"
      ]
    },
    {
      "cell_type": "markdown",
      "metadata": {
        "id": "-fzgxfGLQUzy"
      },
      "source": [
        "[30 points] QUESTION 2\n",
        "\n",
        "Implement the fixed point iteration method for finding the roots of a transcendal equation of the form f(x) = 0\n",
        "\n",
        "Pseudocode:\n",
        "```\n",
        "Given an equation f(x) = 0  \n",
        "Convert f(x) = 0 into the form x = g(x)  \n",
        "Let the initial guess be x0  \n",
        "Do  \n",
        "  x_n+1= g(x_n) \n",
        "while (none of the convergence criterion C1 or C2 is met)\n",
        "```\n",
        "\n",
        "* C1. Fixing apriori the total number of iterations n_iter. \n",
        "* C2. By testing the condition  | x_n+1 - g(x_n) | (where i is the iteration number) less than some tolerance limit, say epsilon, fixed apriori.\n",
        "\n",
        "References:\n",
        "- https://math.iitm.ac.in/public_html/sryedida/caimna/transcendental/iteration%20methods/fixed-point/iteration.html"
      ]
    },
    {
      "cell_type": "code",
      "execution_count": null,
      "metadata": {
        "id": "ahBfQSz9QWgM"
      },
      "outputs": [],
      "source": [
        "# TODO: Implement the fixed point method\n",
        "# Your code goes here\n",
        "def g(x):\n",
        "  return 1/math.sqrt(1+x)\n",
        "def f(x):\n",
        "  return x*x*x + x*x -1\n",
        "\n",
        "def fixed_point(x0, eps=0.0001, numStep=1000 ):\n",
        "  condition = True\n",
        "  steps=1\n",
        "  converg = True\n",
        "  while condition:\n",
        "    x1 = g(x0)\n",
        "    x0 = x1\n",
        "    steps = steps + 1\n",
        "    condition = abs(f(x1)) > eps\n",
        "    if numStep <= steps :\n",
        "      converg = False\n",
        "      break\n",
        "  if converg:\n",
        "    print(x1)\n",
        "  else:\n",
        "    print(\"Not Convergent\")\n",
        "  pass"
      ]
    },
    {
      "cell_type": "code",
      "execution_count": null,
      "metadata": {
        "id": "j-2ngNVbTpni",
        "colab": {
          "base_uri": "https://localhost:8080/"
        },
        "outputId": "1138bd63-ed10-4240-d023-3f5ede8a5339"
      },
      "outputs": [
        {
          "output_type": "stream",
          "name": "stdout",
          "text": [
            "0.7548499055597807\n",
            "0.7540304144059715\n",
            "0.7548776577747326\n"
          ]
        }
      ],
      "source": [
        "# Test your methods\n",
        "# Add the code where you test your fixed_point implemention in this cell. \n",
        "# In your report, please show all the results from the bisection method and how\n",
        "# they compare to the real solution of the equation, if it exists. In your tests,\n",
        "# vary the function parameters and show the effects of these \n",
        "# parameters on your solution accuracy.\n",
        "\n",
        "fixed_point(3)\n",
        "fixed_point(5, 100, 0.01)\n",
        "fixed_point(100, 100000, 0.0000001)"
      ]
    },
    {
      "cell_type": "markdown",
      "metadata": {
        "collapsed": false,
        "id": "nINgqlsQMQ0o"
      },
      "source": [
        "[50 points] QUESTION 3\n",
        "\n",
        "Implement the Newton Raphson method for finding the roots of a transcendal equation of the form f(x) = 0\n",
        "\n",
        "Pseudocode:\n",
        "\n",
        "```\n",
        "1. Guess a solution x0.\n",
        "2. Repeat until convergence conditions C1 or C2 are met\n",
        "2.1. Compute f(x0).\n",
        "2.2. Compute f'(x0) [first derivate of f]\n",
        "2.3. Update x0 using the equation below:\n",
        "      x_n+1 = x_n - f(x_n) / f'(x_n)\n",
        "```\n",
        "\n",
        "* C1. Total number of iteration exceeds n_iter.\n",
        "* C2. |x_n+1 - x_n| < eps, where eps is a preset tolerance and n is the current iteration (step).\n",
        "\n",
        "References:\n",
        "- https://brilliant.org/wiki/newton-raphson-method/"
      ]
    },
    {
      "cell_type": "code",
      "execution_count": null,
      "metadata": {
        "id": "XK-IQVqxQb6Q"
      },
      "outputs": [],
      "source": [
        "# TODO: Implement the newton method\n",
        "# Your code goes here\n",
        "def g1(x):\n",
        "    return -3*math.sin(x) - math.exp(x)\n",
        "def f1(x):\n",
        "    return 3*math.cos(x) - math.exp(x)\n",
        "\n",
        "def newtonRaphson(x0,eps=0.0001,numStep=10000):\n",
        "    step = 1\n",
        "    flag = 1\n",
        "    condition = True\n",
        "    while condition:\n",
        "        if g1(x0) == 0.0:\n",
        "            print('Divide by zero error!')\n",
        "            break\n",
        "        \n",
        "        x1 = x0 - f1(x0)/g1(x0)\n",
        "        x0 = x1\n",
        "        step = step + 1\n",
        "        \n",
        "        if step > numStep:\n",
        "            flag = 0\n",
        "            break\n",
        "        \n",
        "        condition = abs(f(x1)) > eps\n",
        "    \n",
        "    if flag==1:\n",
        "        print('Required root is: %0.8f' % x1)\n",
        "    else:\n",
        "        print('Not Convergent.')\n"
      ]
    },
    {
      "cell_type": "code",
      "execution_count": null,
      "metadata": {
        "id": "SKwVvzLATuO9",
        "colab": {
          "base_uri": "https://localhost:8080/"
        },
        "outputId": "2e88b57d-f584-49f6-a62e-1fce6dd15144"
      },
      "outputs": [
        {
          "output_type": "stream",
          "name": "stdout",
          "text": [
            "Required root is: 0.76857866\n"
          ]
        }
      ],
      "source": [
        "# Test your methods\n",
        "# Add the code where you test your newton implemention in this cell. \n",
        "# In your report, please show all the results from the bisection method and how\n",
        "# they compare to the real solution of the equation, if it exists. In your tests,\n",
        "# vary the parameters and show the effects of these \n",
        "# parameters on your solution accuracy.\n",
        "\n",
        "\n",
        "newtonRaphson(10)"
      ]
    },
    {
      "cell_type": "code",
      "source": [],
      "metadata": {
        "id": "A42ApQ3IEI5f"
      },
      "execution_count": null,
      "outputs": []
    }
  ],
  "metadata": {
    "colab": {
      "provenance": [],
      "include_colab_link": true
    },
    "kernelspec": {
      "display_name": "Python 3.10.1 64-bit",
      "language": "python",
      "name": "python3"
    },
    "language_info": {
      "codemirror_mode": {
        "name": "ipython",
        "version": 3
      },
      "file_extension": ".py",
      "mimetype": "text/x-python",
      "name": "python",
      "nbconvert_exporter": "python",
      "pygments_lexer": "ipython3",
      "version": "3.10.1"
    },
    "vscode": {
      "interpreter": {
        "hash": "4087c63f2113b95ed2a3b31dc1e16268b7fcc3623a9127a5f1b593418078cedd"
      }
    }
  },
  "nbformat": 4,
  "nbformat_minor": 0
}