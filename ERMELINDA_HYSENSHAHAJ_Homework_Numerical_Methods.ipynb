{
  "cells": [
    {
      "cell_type": "markdown",
      "metadata": {
        "id": "view-in-github",
        "colab_type": "text"
      },
      "source": [
        "<a href=\"https://colab.research.google.com/github/Lind8/rau-numerical-methods-602CSE-2022-2023/blob/main/ERMELINDA_HYSENSHAHAJ_Homework_Numerical_Methods.ipynb\" target=\"_parent\"><img src=\"https://colab.research.google.com/assets/colab-badge.svg\" alt=\"Open In Colab\"/></a>"
      ]
    },
    {
      "cell_type": "code",
      "execution_count": 93,
      "metadata": {
        "id": "kCYKy1FCSNsi"
      },
      "outputs": [],
      "source": [
        "import numpy as np\n",
        "import matplotlib.pyplot as plt\n",
        "from functools import partial\n",
        "import math"
      ]
    },
    {
      "cell_type": "code",
      "execution_count": 94,
      "metadata": {
        "id": "cTc3ejrJTm76"
      },
      "outputs": [],
      "source": [
        "# Test case\n",
        "def f1(x):\n",
        "  return x*x - 4 * x + 4\n",
        "\n",
        "def f2(x, a, b, c, d):\n",
        "  \"\"\"To test this function, you need to recreate a partial function where you\n",
        "  initialise the parameters a, b, c, d such that the function used with the\n",
        "  bisection method takes only one parameter, x.\n",
        "  \n",
        "  Hint: Have a look at partial functions in Python.\"\"\"\n",
        "  return a*x**3 + b*x**2 + c*x + d"
      ]
    },
    {
      "cell_type": "markdown",
      "metadata": {
        "id": "F6Bmgt0IMXfX"
      },
      "source": [
        "[20 points] QUESTION 1\n",
        "\n",
        "Complete the implementation for the bisection method for finding the roots of a transcendal equation of the form f(x) = 0. "
      ]
    },
    {
      "cell_type": "code",
      "execution_count": 101,
      "metadata": {
        "id": "3MyzkUWAMS7W"
      },
      "outputs": [],
      "source": [
        "def bisection(f, x0, x1, eps_f=0.001, eps_x=0.001, n_iter=1000):\n",
        "  \"\"\"\n",
        "  Solves f(x)=0 with bisection method\n",
        "  \n",
        "    Outputs:\n",
        "     xg is the root approximation\n",
        "     fg is the function evaluated at final guess f(xg)\n",
        "     N_eval is the number of function evaluations\n",
        "    Inputs:\n",
        "  \n",
        "  f is the function handle to the desired function,\n",
        "  xn and xp are borders of search, i.e. root brackets,\n",
        "  eps_f defines maximum deviation of f(x_sol) from 0,\n",
        "  eps_x defines maximum deviation from the true solution\n",
        "  \"\"\"\n",
        "  #TODO: Check that f(x0) < 0. Raise an error otherwise.\n",
        "  # Your code goes here.\n",
        "\n",
        "  if f(x0) > 0:\n",
        "    raise ValueError('Interval bound are not correct.')\n",
        "\n",
        "  # TODO: Check that f(x1) > 0. Raise an error otherwise.\n",
        "  # Your code goes here.\n",
        "\n",
        "  if f(x1) < 0:\n",
        "    raise ValueError('Interval bound are not correct.')\n",
        "\n",
        "  # Initialization\n",
        "  xg = (x1 + x0) / 2 # Initial root guess\n",
        "  fg = f(xg)    # Initial function evaluation\n",
        "  iter_num = 1 # We just evaluated the function\n",
        "  \n",
        "  # Search for root\n",
        "  while (np.abs(xg - x1) > eps_x or np.abs(fg) > eps_f) and (iter_num < n_iter):\n",
        "    if fg > 0:\n",
        "      x1 = xg\n",
        "    else:\n",
        "      x0 = xg\n",
        "    #TODO: Update xg, fg, and increase the iteration number.\n",
        "    # Your code goes here.\n",
        "    xg = (x1+x0) / 2\n",
        "    fg = f(xg)\n",
        "    iter_num += 1\n",
        "\n",
        "  return xg, fg, iter_num\n"
      ]
    },
    {
      "cell_type": "code",
      "execution_count": 103,
      "metadata": {
        "id": "LakZnaIFOaH8",
        "colab": {
          "base_uri": "https://localhost:8080/"
        },
        "outputId": "b7cb6d99-9d73-4b64-c83f-9838972e2047"
      },
      "outputs": [
        {
          "output_type": "stream",
          "name": "stdout",
          "text": [
            "12\n"
          ]
        }
      ],
      "source": [
        "# Test your methods\n",
        "# Add the code where you test your bisection implemention in this cell. \n",
        "# In your report, please show all the results from the bisection method and how\n",
        "# they compare to the real solution of the equation, if it exists. In your tests,\n",
        "# vary the eps_x, eps_f, n_iter parameters and show the effects of these \n",
        "# parameters on your solution accuracy.\n",
        "\n",
        "n_iter = 10000\n",
        "eps_x = 0.00000000001\n",
        "eps_f = 0.00000000001\n",
        "\n",
        "import numpy as np\n",
        "import matplotlib.pyplot as plt\n",
        "\n",
        "x = np.linspace(-100, 100, 1000)\n",
        "\n",
        "# Function 1\n",
        "\n",
        "# For the f1 function, is a perfect square (x-2)^2 you can not get a negative value for the f(x0), minimum is f(x0) = 0 and x0 = 2\n",
        "xn = 2\n",
        "xp = 5\n",
        "def bisection(f1, xn, xp, esp_x, esp_f, n_iter):\n",
        "  xg, fg, iter_num = bisection(f1, xn, xp, eps_x, eps_f, n_iter)\n",
        "\n",
        "  x1, y1 = [-100, 100], [fg, fg]\n",
        "\n",
        "  plt.plot(x, f1(x))\n",
        "  plt.plot(x1, y1)\n",
        "  plt.grid()\n",
        "  plt.show()\n",
        "\n",
        "  print(xg, fg, iter_num)\n",
        "\n",
        "# Function 2\n",
        "\n",
        "p = partial(f2, a=2, b=4, c=5, d=1) # 2x^3 + 4x^2 + 5x + 1\n",
        "\n",
        "xn = -2\n",
        "xp = 1\n",
        "print (p(1))\n",
        "\n",
        "def bisection(p, xn, xp, eps_x, eps_f, n_iter):\n",
        "   xg, fg, iter_num = bisection(p, xn, xp, eps_x, eps_f, n_iter)\n",
        "\n",
        "   x1, y1 = [-100, 100], [fg, fg]\n",
        "\n",
        "   plt.plot(x, p(x))\n",
        "   plt.plot(x1, y1)\n",
        "   plt.grid()\n",
        "   plt.show()\n",
        "\n",
        "   print(xg, fg, iter_num)\n"
      ]
    },
    {
      "cell_type": "markdown",
      "metadata": {
        "id": "-fzgxfGLQUzy"
      },
      "source": [
        "[30 points] QUESTION 2\n",
        "\n",
        "Implement the fixed point iteration method for finding the roots of a transcendal equation of the form f(x) = 0\n",
        "\n",
        "Pseudocode:\n",
        "```\n",
        "Given an equation f(x) = 0  \n",
        "Convert f(x) = 0 into the form x = g(x)  [manually]\n",
        "Let the initial guess be x0  \n",
        "Do  \n",
        "  x_n+1= g(x_n) \n",
        "while (none of the convergence criterion C1 or C2 is met)\n",
        "```\n",
        "\n",
        "* C1. Fixing apriori the total number of iterations n_iter. \n",
        "* C2. By testing the condition  | x_n+1 - g(x_n) | (where i is the iteration number) less than some tolerance limit, say epsilon, fixed apriori.\n",
        "\n",
        "References:\n",
        "- https://math.iitm.ac.in/public_html/sryedida/caimna/transcendental/iteration%20methods/fixed-point/iteration.html"
      ]
    },
    {
      "cell_type": "code",
      "execution_count": 97,
      "metadata": {
        "id": "ahBfQSz9QWgM",
        "colab": {
          "base_uri": "https://localhost:8080/"
        },
        "outputId": "b8413092-c638-4bf4-ae6a-fe180dc51711"
      },
      "outputs": [
        {
          "output_type": "execute_result",
          "data": {
            "text/plain": [
              "(0.3473027741103672,\n",
              " [0.375, 0.3509114583333333, 0.3477369446629359, 0.3473495643546683])"
            ]
          },
          "metadata": {},
          "execution_count": 97
        }
      ],
      "source": [
        "# TODO: Implement the fixed point method\n",
        "# Your code goes here\n",
        "\n",
        "import numpy as np\n",
        "import matplotlib.pyplot as plt\n",
        "\n",
        "def fixed_point(f, x, eps,C1):\n",
        "  roots = []\n",
        "  C2 = f(x)\n",
        "  x = C2\n",
        "  while np.abs(C2 - f(x)) > eps and C1 > 0:\n",
        "    roots.append(C2)\n",
        "    C2 = f(x)\n",
        "    x = C2\n",
        "    C1 = C1 - 1\n",
        "  return C2, roots\n",
        "\n",
        "def  f(x):\n",
        "  return (x*x*x+1) / 3\n",
        "fixed_point(f, 0.5, 0.00001, 1000)\n"
      ]
    },
    {
      "cell_type": "code",
      "execution_count": 98,
      "metadata": {
        "id": "j-2ngNVbTpni"
      },
      "outputs": [],
      "source": [
        "# Test your methods\n",
        "# Add the code where you test your fixed_point implemention in this cell. \n",
        "# In your report, please show all the results from the bisection method and how\n",
        "# they compare to the real solution of the equation, if it exists. In your tests,\n",
        "# vary the function parameters and show the effects of these \n",
        "# parameters on your solution accuracy."
      ]
    },
    {
      "cell_type": "markdown",
      "metadata": {
        "collapsed": false,
        "id": "SlV55Shhn11y"
      },
      "source": [
        "[50 points] QUESTION 3\n",
        "\n",
        "Implement the Newton Raphson method for finding the roots of a transcendal equation of the form f(x) = 0\n",
        "\n",
        "Pseudocode:\n",
        "\n",
        "```\n",
        "1. Guess a solution x0.\n",
        "2. Repeat until convergence conditions C1 or C2 are met\n",
        "2.1. Compute f(x0).\n",
        "2.2. Compute f'(x0) [first derivate of f]\n",
        "2.3. Update x0 using the equation below:\n",
        "      x_n+1 = x_n - f(x_n) / f'(x_n)\n",
        "```\n",
        "\n",
        "* C1. Total number of iteration exceeds n_iter.\n",
        "* C2. |x_n+1 - x_n| < eps, where eps is a preset tolerance and n is the current iteration (step).\n",
        "\n",
        "References:\n",
        "- https://brilliant.org/wiki/newton-raphson-method/"
      ]
    },
    {
      "cell_type": "code",
      "execution_count": 99,
      "metadata": {
        "id": "XK-IQVqxQb6Q"
      },
      "outputs": [],
      "source": [
        "# TODO: Implement the newton method\n",
        "# Your code goes here\n",
        "def newton_raphson(f, df, x0, eps, n_iter = 1000):\n",
        "  if abs(f(x0)) < eps or n_iter == 0:\n",
        "      return x0\n",
        "  else:\n",
        "      return newton_raphson(f, df, x0 - f(x0)/df(x0), eps, n_iter - 1)\n"
      ]
    },
    {
      "cell_type": "code",
      "execution_count": 100,
      "metadata": {
        "id": "SKwVvzLATuO9",
        "colab": {
          "base_uri": "https://localhost:8080/",
          "height": 293
        },
        "outputId": "2ce2af33-0656-4fd6-e832-a0a1055311dd"
      },
      "outputs": [
        {
          "output_type": "display_data",
          "data": {
            "text/plain": [
              "<Figure size 432x288 with 1 Axes>"
            ],
            "image/png": "[encoded data removed]"
          },
          "metadata": {
            "needs_background": "light"
          }
        },
        {
          "output_type": "stream",
          "name": "stdout",
          "text": [
            "-1.1102230246251565e-16 0.721406032674848\n"
          ]
        }
      ],
      "source": [
        "# Test your methods\n",
        "# Add the code where you test your newton implemention in this cell. \n",
        "# In your report, please show all the results from the bisection method and how\n",
        "# they compare to the real solution of the equation, if it exists. In your tests,\n",
        "# vary the parameters and show the effects of these \n",
        "# parameters on your solution accuracy.\n",
        "\n",
        "n_iter = 10000\n",
        "eps = 0.00000000001\n",
        "\n",
        "import numpy as np\n",
        "import matplotlib.pyplot as plt\n",
        "\n",
        "x = np.linspace(-100, 100, 1000)\n",
        "\n",
        "def f(x):\n",
        "    res = np.cos(x)-2*x**3\n",
        "    return res\n",
        "\n",
        "\n",
        "def dfdx(x):\n",
        "    res = -np.sin(x)-6*x**2\n",
        "    return res\n",
        "\n",
        "xn = 1\n",
        "\n",
        "xg = newton_raphson(f, dfdx, xn, eps, n_iter)\n",
        "\n",
        "x1, y1 = [-100, 100], [f(xg), f(xg)]\n",
        "\n",
        "plt.plot(x, f(x))\n",
        "plt.plot(x1, y1)\n",
        "plt.grid()\n",
        "plt.show()\n",
        "\n",
        "print(f(xg), xg)\n"
      ]
    }
  ],
  "metadata": {
    "colab": {
      "provenance": [],
      "include_colab_link": true
    },
    "kernelspec": {
      "display_name": "Python 3",
      "language": "python",
      "name": "python3"
    },
    "language_info": {
      "codemirror_mode": {
        "name": "ipython",
        "version": 3
      },
      "file_extension": ".py",
      "mimetype": "text/x-python",
      "name": "python",
      "nbconvert_exporter": "python",
      "pygments_lexer": "ipython3",
      "version": "3.10.4 (tags/v3.10.4:9d38120, Mar 23 2022, 23:13:41) [MSC v.1929 64 bit (AMD64)]"
    },
    "vscode": {
      "interpreter": {
        "hash": "f2ccb58c476f33ba3e3aee7ac07234ef6b8217ef24ad64d2a7d4fed1a57c1cd2"
      }
    }
  },
  "nbformat": 4,
  "nbformat_minor": 0
}