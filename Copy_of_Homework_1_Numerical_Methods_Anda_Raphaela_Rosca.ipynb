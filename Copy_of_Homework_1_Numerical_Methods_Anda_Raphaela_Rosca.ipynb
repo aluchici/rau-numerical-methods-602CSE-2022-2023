{
  "nbformat": 4,
  "nbformat_minor": 0,
  "metadata": {
    "colab": {
      "provenance": [],
      "include_colab_link": true
    },
    "kernelspec": {
      "name": "python3",
      "display_name": "Python 3"
    },
    "language_info": {
      "name": "python"
    }
  },
  "cells": [
    {
      "cell_type": "markdown",
      "metadata": {
        "id": "view-in-github",
        "colab_type": "text"
      },
      "source": [
        "<a href=\"https://colab.research.google.com/github/andarosca/rau-numerical-methods-602CSE-2022-2023/blob/main/Copy_of_Homework_1_Numerical_Methods_Anda_Raphaela_Rosca.ipynb\" target=\"_parent\"><img src=\"https://colab.research.google.com/assets/colab-badge.svg\" alt=\"Open In Colab\"/></a>"
      ]
    },
    {
      "cell_type": "code",
      "source": [
        "import numpy as np\n",
        "import matplotlib.pyplot as plt \n",
        "from functools import partial"
      ],
      "metadata": {
        "id": "kCYKy1FCSNsi"
      },
      "execution_count": 1,
      "outputs": []
    },
    {
      "cell_type": "code",
      "source": [
        "# Test case\n",
        "def f1(x):\n",
        "  return x*x - 4 * x + 4\n",
        "\n",
        "def f2(x, a, b, c, d):\n",
        "  \"\"\"To test this function, you need to recreate a partial function where you\n",
        "  initialise the parameters a, b, c, d such that the function used with the\n",
        "  bisection method takes only one parameter, x.\n",
        "  \n",
        "  Hint: Have a look at partial functions in Python.\"\"\"\n",
        "  return a*x^3 + b*x^2 + c*x + d"
      ],
      "metadata": {
        "id": "cTc3ejrJTm76"
      },
      "execution_count": 2,
      "outputs": []
    },
    {
      "cell_type": "markdown",
      "source": [
        "[20 points] QUESTION 1\n",
        "\n",
        "Complete the implementation for the bisection method for finding the roots of a transcendal equation of the form f(x) = 0. "
      ],
      "metadata": {
        "id": "F6Bmgt0IMXfX"
      }
    },
    {
      "cell_type": "code",
      "execution_count": 3,
      "metadata": {
        "id": "3MyzkUWAMS7W",
        "colab": {
          "base_uri": "https://localhost:8080/"
        },
        "outputId": "8e2b5494-e500-49fd-a5b5-a2d0ffafe75c"
      },
      "outputs": [
        {
          "output_type": "execute_result",
          "data": {
            "text/plain": [
              "(-0.999969482421875, 6.103329363327248e-05, 16)"
            ]
          },
          "metadata": {},
          "execution_count": 3
        }
      ],
      "source": [
        "def bisection(f, x0, x1, eps_f=0.001, eps_x=0.001, n_iter=1000):\n",
        "  \"\"\"\n",
        "  Solves f(x)=0 with bisection method\n",
        "  \n",
        "    Outputs:\n",
        "     xg is the root approximation\n",
        "     fg is the function evaluated at final guess f(xg)\n",
        "     N_eval is the number of function evaluations\n",
        "    Inputs:\n",
        "  \n",
        "  f is the function handle to the desired function,\n",
        "  xn and xp are borders of search, i.e. root brackets,\n",
        "  eps_f defines maximum deviation of f(x_sol) from 0,\n",
        "  eps_x defines maximum deviation from the true solution\n",
        "  \"\"\"\n",
        "  #TOOD: Check that f(x0) < 0. Raise an error otherwise.\n",
        "  # Your code goes here.\n",
        "\n",
        "  # TODO: Check that f(x1) > 0. Raise an error otherwise.\n",
        "  # Your code goes here.\n",
        "\n",
        "  # Initialization\n",
        "  xg = (x1 + x0) / 2 # Initial root guess\n",
        "  fg = f(xg)    # Initial function evaluation\n",
        "  iter_num = 1 # We just evaluated the function\n",
        "  \n",
        "  # Search for root\n",
        "  while (np.abs(xg - x1) > eps_x or np.abs(fg) > eps_f) and (iter_num < n_iter):\n",
        "    if fg > 0:\n",
        "      x1 = xg\n",
        "    else:\n",
        "      x0 = xg\n",
        "\n",
        "    #TODO: Update xg, fg, and increase the iteration number.\n",
        "    # Your code goes here.\n",
        "    xg = (x1 + x0) / 2    #function ability of trying to find midpoint   \n",
        "    fg = f(xg) \n",
        "    iter_num = iter_num + 1 #increasing chance of tries incriment by 1\n",
        "  return xg, fg, iter_num\n",
        "\n",
        "def f (x,a,b,c,d):  #here functions are being defined with the arguments (a,b and so on) listed\n",
        "    return a*x**3+b*x**2+c*x+d\n",
        "def f3(x):\n",
        "    return x*x - 4 * x + 4 #here is more or less its returned resolvment\n",
        "\n",
        "\n",
        "\n",
        "xn = -2 #variables initialized\n",
        "xp = 0\n",
        "n_iter = 100\n",
        "eps_s = 0.0001\n",
        "eps_x = 0.0001\n",
        "\n",
        "p1=partial(f,a=1,b=1,c=1,d=1) #relates to partial function through use of bisection\n",
        "p1(1)\n",
        "bisection(p1,xn,xp,eps_s,eps_x,n_iter) \n",
        "# p1:finding root/xn:lower part of interval for root/xp: higher part of interval for root/\n",
        "#eps_s: value of function at placed root and set within set standards/eps_x:root itself more approxiamated/n_iter:iterations set aka amount of tries \n"
      ]
    },
    {
      "cell_type": "code",
      "source": [
        "# Test your methods\n",
        "# Add the code where you test your bisection implemention in this cell. \n",
        "# In your report, please show all the results from the bisection method and how\n",
        "# they compare to the real solution of the equation, if it exists. In your tests,\n",
        "# vary the eps_x, eps_f, n_iter parameters and show the effects of these \n",
        "# parameters on your solution accuracy."
      ],
      "metadata": {
        "id": "LakZnaIFOaH8"
      },
      "execution_count": 4,
      "outputs": []
    },
    {
      "cell_type": "markdown",
      "source": [
        "[30 points] QUESTION 2\n",
        "\n",
        "Implement the fixed point iteration method for finding the roots of a transcendal equation of the form f(x) = 0\n",
        "\n",
        "Pseudocode:\n",
        "```\n",
        "Given an equation f(x) = 0  \n",
        "Convert f(x) = 0 into the form x = g(x)  \n",
        "Let the initial guess be x0  \n",
        "Do  \n",
        "  x_n+1= g(x_n) \n",
        "while (none of the convergence criterion C1 or C2 is met)\n",
        "```\n",
        "\n",
        "* C1. Fixing apriori the total number of iterations n_iter. \n",
        "* C2. By testing the condition  | x_n+1 - g(x_n) | (where i is the iteration number) less than some tolerance limit, say epsilon, fixed apriori.\n",
        "\n",
        "References:\n",
        "- https://math.iitm.ac.in/public_html/sryedida/caimna/transcendental/iteration%20methods/fixed-point/iteration.html"
      ],
      "metadata": {
        "id": "-fzgxfGLQUzy"
      }
    },
    {
      "cell_type": "code",
      "source": [
        "# TODO: Implement the fixed point method\n",
        "# Your code goes here\n",
        "def fixed_point(f,x0,eps,n_iter): #defines function and its argument\n",
        "   roots = [] #list of roots created--empty so far\n",
        "   x1 = f(x0) #function has the value set of x0 to the variable x1\n",
        "   x0 = x1 #x0 variable sets the value to the x1 variable\n",
        "   while np.abs(x1 - f(x0)) > eps and n_iter > 0: #checks if left part of the function is greater or not/if condition is greater than 0, in while loop\n",
        "      roots.append(x1) #adds value of x1 to root list, to end list\n",
        "      x1 = f(x0) #counts for next two lines:values assigned in alternation/updates\n",
        "      x0 = x1 #contd values switch in terms up being updated\n",
        "      n_iter = n_iter - 1 #iteration count with decrease of 1:assigns new value calculated by taking value and decreasing 1\n",
        "   return x1, roots #returns an array of both values, both x1 and roots\n",
        "\n",
        "def f(x):\n",
        "  return(x**3+5)/9 #example used\n",
        " \n",
        "fixed_point(f,0.7,0.01,1000) #used approximation points to pinpoint range of intersecting point\n",
        "\n"
      ],
      "metadata": {
        "id": "ahBfQSz9QWgM",
        "colab": {
          "base_uri": "https://localhost:8080/"
        },
        "outputId": "cd507684-f915-49a2-f7a0-a72cc5b252db"
      },
      "execution_count": 5,
      "outputs": [
        {
          "output_type": "execute_result",
          "data": {
            "text/plain": [
              "(0.5788035495514403, [0.5936666666666667])"
            ]
          },
          "metadata": {},
          "execution_count": 5
        }
      ]
    },
    {
      "cell_type": "code",
      "source": [
        "# Test your methods\n",
        "# Add the code where you test your fixed_point implemention in this cell. \n",
        "# In your report, please show all the results from the bisection method and how\n",
        "# they compare to the real solution of the equation, if it exists. In your tests,\n",
        "# vary the function parameters and show the effects of these \n",
        "# parameters on your solution accuracy."
      ],
      "metadata": {
        "id": "j-2ngNVbTpni"
      },
      "execution_count": 6,
      "outputs": []
    },
    {
      "cell_type": "markdown",
      "source": [
        "[50 points] QUESTION 3\n",
        "\n",
        "Implement the Newton Raphson method for finding the roots of a transcendal equation of the form f(x) = 0\n",
        "\n",
        "Pseudocode:\n",
        "\n",
        "```\n",
        "1. Guess a solution x0.\n",
        "2. Repeat until convergence conditions C1 or C2 are met\n",
        "2.1. Compute f(x0).\n",
        "2.2. Compute f'(x0) [first derivate of f]\n",
        "2.3. Update x0 using the equation below:\n",
        "      x_n+1 = x_n - f(x_n) / f'(x_n)\n",
        "```\n",
        "\n",
        "* C1. Total number of iteration exceeds n_iter.\n",
        "* C2. |x_n+1 - x_n| < eps, where eps is a preset tolerance and n is the current iteration (step).\n",
        "\n",
        "References:\n",
        "- https://brilliant.org/wiki/newton-raphson-method/"
      ],
      "metadata": {
        "collapsed": false,
        "id": "wHNy2BJgMdyI"
      }
    },
    {
      "cell_type": "code",
      "source": [
        "# TODO: Implement the newton method\n",
        "# Your code goes here\n",
        "def newton(x0,f,eps,n_iter): #starts out with initial guess for the root\n",
        "  x1=x0\n",
        "  while np.abs(x1-x0)<eps and n_iter>0: #while loop that tries improving guess by computing\n",
        "    fx=f(x1) #x1 becomes improved guess\n",
        "    fxp=derivative(f,x0,eps) #x0 is the derivative point of the function\n",
        "    x1=x1-(fx/fxp) #value minus the assigned\n",
        "    x0=x1 #proccess is repeated until level is reached \n",
        "    n_iter=n_iter-1 #number of iterations in a loop with valuee decreaseed by 1\n",
        "  return x1\n",
        "def derivative(f,x0,dx): #setting derivative\n",
        "  return (f(x0+dx)-f(x0))/dx #sets for the return aka answser of introduced function\n",
        "def f(x):\n",
        "  return x**2-2*x-2 #example of function used in order to determine point found\n",
        "\n",
        "print(newton(1,f,0.01,1000)) #prints answer of found point\n",
        "  "
      ],
      "metadata": {
        "id": "XK-IQVqxQb6Q",
        "colab": {
          "base_uri": "https://localhost:8080/"
        },
        "outputId": "4a4d3b84-6681-427d-fed0-a609585cf1e5"
      },
      "execution_count": 7,
      "outputs": [
        {
          "output_type": "stream",
          "name": "stdout",
          "text": [
            "2.732050807568877\n"
          ]
        }
      ]
    },
    {
      "cell_type": "code",
      "source": [
        "# Test your methods\n",
        "# Add the code where you test your newton implemention in this cell. \n",
        "# In your report, please show all the results from the bisection method and how\n",
        "# they compare to the real solution of the equation, if it exists. In your tests,\n",
        "# vary the parameters and show the effects of these \n",
        "# parameters on your solution accuracy."
      ],
      "metadata": {
        "id": "SKwVvzLATuO9"
      },
      "execution_count": 8,
      "outputs": []
    }
  ]
}