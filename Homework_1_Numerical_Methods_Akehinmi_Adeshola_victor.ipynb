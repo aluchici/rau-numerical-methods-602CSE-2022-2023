{
  "nbformat": 4,
  "nbformat_minor": 0,
  "metadata": {
    "colab": {
      "provenance": [],
      "include_colab_link": true
    },
    "kernelspec": {
      "name": "python3",
      "display_name": "Python 3"
    },
    "language_info": {
      "name": "python"
    }
  },
  "cells": [
    {
      "cell_type": "markdown",
      "metadata": {
        "id": "view-in-github",
        "colab_type": "text"
      },
      "source": [
        "<a href=\"https://colab.research.google.com/github/AdekingDev/rau-numerical-methods-602CSE-2022-2023/blob/main/Homework_1_Numerical_Methods_Akehinmi_Adeshola_victor.ipynb\" target=\"_parent\"><img src=\"https://colab.research.google.com/assets/colab-badge.svg\" alt=\"Open In Colab\"/></a>"
      ]
    },
    {
      "cell_type": "code",
      "source": [
        "import numpy as np\n",
        "import matplotlib.pyplot as plt\n",
        "from functools import partial "
      ],
      "metadata": {
        "id": "kCYKy1FCSNsi"
      },
      "execution_count": null,
      "outputs": []
    },
    {
      "cell_type": "code",
      "source": [
        "# Test case\n",
        "# for f1\n",
        "def f1(x):\n",
        "  value = x * x - 4 * x + 4\n",
        "  return value\n",
        "\n",
        "# recreating a partial function to initialize parameters of a,b,c,d for x\n",
        "def f2(x, a, b, c, d):\n",
        "  return a*x^3 + b*x^2 + c*x + d\n",
        "# defining partial function with a=1,b=2,c=3,d=4\n",
        "# so that g can be called with a simple argument of x\n",
        "g = partial(f2,a=1,b=2,c=3,d=4)\n",
        "print(g(1))\n"
      ],
      "metadata": {
        "id": "cTc3ejrJTm76"
      },
      "execution_count": null,
      "outputs": []
    },
    {
      "cell_type": "code",
      "source": [
        "# Test case of f1 using partial function\n",
        "def f1(x,y,z):\n",
        "  return x * y - 4 * z + 4\n",
        "p = partial(f1,y=2,z=3)\n",
        "print(p(5))"
      ],
      "metadata": {
        "id": "x_KLIkOYN0dC"
      },
      "execution_count": null,
      "outputs": []
    },
    {
      "cell_type": "markdown",
      "source": [
        "[20 points] QUESTION 1\n",
        "\n",
        "Complete the implementation for the bisection method for finding the roots of a transcendal equation of the form f(x) = 0. "
      ],
      "metadata": {
        "id": "F6Bmgt0IMXfX"
      }
    },
    {
      "cell_type": "code",
      "execution_count": null,
      "metadata": {
        "id": "3MyzkUWAMS7W"
      },
      "outputs": [],
      "source": [
        "def bisection(f, x0, x1, eps_f=0.001, eps_x=0.001, n_iter=1000):\n",
        "  \"\"\"\n",
        "  Solves f(x)=0 with bisection method\n",
        "  \n",
        "    Outputs:\n",
        "     xg is the root approximation\n",
        "     fg is the function evaluated at final guess f(xg)\n",
        "     N_eval is the number of function evaluations\n",
        "    Inputs:\n",
        "  \n",
        "  f is the function handle to the desired function,\n",
        "  xn and xp are borders of search, i.e. root brackets,\n",
        "  eps_f defines maximum deviation of f(x_sol) from 0,\n",
        "  eps_x defines maximum deviation from the true solution\n",
        "  \"\"\"\n",
        "  #TOOD: Check that f(x0) < 0. Raise an error otherwise.\n",
        "  # Your code goes here.\n",
        "\n",
        "# the functions of positive and negative bounds, tol solution, tol, interval\n",
        "# which the starting point needs to go through zero\n",
        "# for which bounds needs to be corrected\n",
        "\n",
        "  if f(x0) > 0 or f(x1) < 0: #This part need to go through zero bound and needs to correct\n",
        "    raise ValueError(\"interval bounds are not correct.\") # Raising value error when f(x0) is less than that zero or f(x1) greater than zero\n",
        "\n",
        "  xg = (x1 + x0) / 2 # initial root guess for middle of function\n",
        "  fg = f(xg)  # initial evaluate function\n",
        "  iter_num = 1 # evaluated function\n",
        "\n",
        "#To get the root, firstly we need to search for the root\n",
        "  while (np.abs(xg - x1) > eps_x or np.abs(fg) > eps_f) and iter_num < n_iter:\n",
        "    if fg > 0:\n",
        "      x1 = xg\n",
        "    else:\n",
        "      x0 = xg\n",
        "\n",
        "#TODO: Update xg, fg, and increase the iteration number.\n",
        "    xg = (x1 + x0) / 2\n",
        "    fg = f(xg)\n",
        "    iter_num = iter_num + 1\n",
        "  return xg, fg, iter_num # intersection, report and values\n"
      ]
    },
    {
      "cell_type": "code",
      "source": [
        "def f(x):\n",
        "  return -2 + 2.5 * x\n",
        "\n",
        "x0 = 0\n",
        "x1 = 2\n",
        "n_iter = 1000\n",
        "eps_f = 0.001\n",
        "eps_x = 0.001\n",
        "\n",
        "x = np.linspace(0.5, 1, 1000)\n",
        "plt.plot(x, f(x))\n",
        "plt.grid()\n",
        "plt.show()\n",
        "bisect(f, x0, x1, eps_f, eps_x, n_iter)"
      ],
      "metadata": {
        "id": "v0HNz0__OtB8"
      },
      "execution_count": null,
      "outputs": []
    },
    {
      "cell_type": "code",
      "source": [
        "eps_f = [0.001, 0.01, 0.1, 0.25, 0.5]\n",
        "eps_x = [0.001, 0.01, 0.1, 0.25, 0.5]\n",
        "\n",
        "errors = []\n",
        "solutions = []\n",
        "number_of_iterations = []\n",
        "eps_f_params = []\n",
        "eps_x_params = []\n",
        "\n",
        "for ef in eps_f:\n",
        "  for ex in eps_x:\n",
        "    root, result, iter = bisect(f, x0, x1, ef, ex, n_iter)\n",
        "    errors.append(result)\n",
        "    solutions.append(root)\n",
        "    number_of_iterations.append(iter)\n",
        "    eps_f_params.append(ef)\n",
        "    eps_x_params.append(ex)"
      ],
      "metadata": {
        "id": "7TN1O5i6O7ef"
      },
      "execution_count": null,
      "outputs": []
    },
    {
      "cell_type": "code",
      "source": [
        "# Test your methods\n",
        "# Add the code where you test your bisection implemention in this cell. \n",
        "# In your report, please show all the results from the bisection method and how\n",
        "# they compare to the real solution of the equation, if it exists. In your tests,\n",
        "# vary the eps_x, eps_f, n_iter parameters and show the effects of these \n",
        "# parameters on your solution accuracy."
      ],
      "metadata": {
        "id": "LakZnaIFOaH8"
      },
      "execution_count": null,
      "outputs": []
    },
    {
      "cell_type": "markdown",
      "source": [
        "[30 points] QUESTION 2\n",
        "\n",
        "Implement the fixed point iteration method for finding the roots of a transcendal equation of the form f(x) = 0\n",
        "\n",
        "Pseudocode:\n",
        "```\n",
        "Given an equation f(x) = 0  \n",
        "Convert f(x) = 0 into the form x = g(x)  [manually]\n",
        "Let the initial guess be x0  \n",
        "Do  \n",
        "  x_n+1= g(x_n) \n",
        "while (none of the convergence criterion C1 or C2 is met)\n",
        "```\n",
        "\n",
        "* C1. Fixing apriori the total number of iterations n_iter. \n",
        "* C2. By testing the condition  | x_n+1 - g(x_n) | (where i is the iteration number) less than some tolerance limit, say epsilon, fixed apriori.\n",
        "\n",
        "References:\n",
        "- https://math.iitm.ac.in/public_html/sryedida/caimna/transcendental/iteration%20methods/fixed-point/iteration.html"
      ],
      "metadata": {
        "id": "-fzgxfGLQUzy"
      }
    },
    {
      "cell_type": "code",
      "source": [
        "# TODO: Implement the fixed point method\n",
        "# Your code goes here\n",
        "def fixed_point(f, x0, eps, c1):\n",
        "  roots = []\n",
        "  c2 = f(x0)\n",
        "  x0 = c2\n",
        "  while np.abs(c2 -f(x0)) > eps and c1 > 0:\n",
        "    roots.append(c2)\n",
        "    x0 = c2 # The initial guess for the root\n",
        "    c2 = f(x0) # To test for convergence criterion C2\n",
        "    n_iter = c1 - 1 # To test for convergence criterion C1\n",
        "  return c2, roots\n",
        "\n",
        "#plotting the iteration process by calling fixed_point()\n",
        "def f(x):\n",
        "  return -4 / (x - 4)\n",
        "\n",
        "x = np.linspace(-5, 4, 1000)\n",
        "fig = plt.figure(figsize=(8, 8))\n",
        "plt.plot(x,f(x))\n",
        "plt.hlines(0, 0, 4, \"k\", \"--\")\n",
        "plt.grid()\n",
        "plt.show()\n",
        "fixed_point(f, 0.5, 0.0001, 1000)"
      ],
      "metadata": {
        "id": "ahBfQSz9QWgM"
      },
      "execution_count": null,
      "outputs": []
    },
    {
      "cell_type": "code",
      "source": [
        "# Test your methods\n",
        "# Add the code where you test your fixed_point implemention in this cell. \n",
        "# In your report, please show all the results from the bisection method and how\n",
        "# they compare to the real solution of the equation, if it exists. In your tests,\n",
        "# vary the function parameters and show the effects of these \n",
        "# parameters on your solution accuracy."
      ],
      "metadata": {
        "id": "j-2ngNVbTpni"
      },
      "execution_count": null,
      "outputs": []
    },
    {
      "cell_type": "markdown",
      "source": [
        "[50 points] QUESTION 3\n",
        "\n",
        "Implement the Newton Raphson method for finding the roots of a transcendal equation of the form f(x) = 0\n",
        "\n",
        "Pseudocode:\n",
        "\n",
        "```\n",
        "1. Guess a solution x0.\n",
        "2. Repeat until convergence conditions C1 or C2 are met\n",
        "2.1. Compute f(x0).\n",
        "2.2. Compute f'(x0) [first derivate of f]\n",
        "2.3. Update x0 using the equation below:\n",
        "      x_n+1 = x_n - f(x_n) / f'(x_n)\n",
        "```\n",
        "\n",
        "* C1. Total number of iteration exceeds n_iter.\n",
        "* C2. |x_n+1 - x_n| < eps, where eps is a preset tolerance and n is the current iteration (step).\n",
        "\n",
        "References:\n",
        "- https://brilliant.org/wiki/newton-raphson-method/"
      ],
      "metadata": {
        "collapsed": false,
        "id": "QryWkpVGLxnO"
      }
    },
    {
      "cell_type": "code",
      "source": [
        "# TODO: Implement the newton method\n",
        "# Your code goes here\n",
        "def newton(f, x0, tol, max_iter=1000):\n",
        "  x = 1\n",
        "  for n in range(1,6,1):\n",
        "    x0 = x\n",
        "    x = x - f(x)/f1(x) #Updating x0 using newton raphson\n",
        "    if abs(x - x0) < tol:\n",
        "      return x\n",
        "  print(x)\n",
        "\n",
        "#TODO: when the function is close to zero then x0 will be considered as zero\n",
        "#When derivative is close to zero, return none\n",
        "\n",
        "def f(x):\n",
        "  y = x*x - 4*x + 4\n",
        "  return y\n",
        "\n",
        "def f1(x): # Derivative of f(x)\n",
        "  z = 2*x - 4\n",
        "  return z\n",
        "\n",
        "root = newton(f, x0=1, tol=1e-6) # Root of the equation f1(x) = 2*x - 4\n",
        "print(root)\n"
      ],
      "metadata": {
        "id": "XK-IQVqxQb6Q"
      },
      "execution_count": null,
      "outputs": []
    },
    {
      "cell_type": "code",
      "source": [
        "vector = []\n",
        "t = range(1,6,1)\n",
        "\n",
        "x = 1\n",
        "for n in range(1,6,1):\n",
        "  x = x - f(x)/f1(x)\n",
        "  print(x)\n",
        "  vector.append(x)\n",
        "plt.plot(vector,t)\n",
        "plt.grid()"
      ],
      "metadata": {
        "id": "-UmsjFb3PzQ1"
      },
      "execution_count": null,
      "outputs": []
    },
    {
      "cell_type": "code",
      "source": [
        "vector = []\n",
        "t = range(1,6,1)\n",
        "\n",
        "x = 1\n",
        "for n in range(1,6,1):\n",
        "  x = x - f(x)/f1(x)\n",
        "  print(x)\n",
        "  vector.append(x)\n",
        "plt.plot(vector,t)\n",
        "plt.axhline(y=0, color='k')\n",
        "x = np.linspace(-5, 5, 100)\n",
        "plt.axvline(x=2, color='k')\n",
        "plt.xlabel('x')\n",
        "plt.ylabel('f1(x)')\n",
        "plt.grid()"
      ],
      "metadata": {
        "id": "RbAh5_f7P5Pe"
      },
      "execution_count": null,
      "outputs": []
    },
    {
      "cell_type": "code",
      "source": [
        "# Test your methods\n",
        "# Add the code where you test your newton implemention in this cell. \n",
        "# In your report, please show all the results from the bisection method and how\n",
        "# they compare to the real solution of the equation, if it exists. In your tests,\n",
        "# vary the parameters and show the effects of these \n",
        "# parameters on your solution accuracy."
      ],
      "metadata": {
        "id": "SKwVvzLATuO9"
      },
      "execution_count": null,
      "outputs": []
    }
  ]
}